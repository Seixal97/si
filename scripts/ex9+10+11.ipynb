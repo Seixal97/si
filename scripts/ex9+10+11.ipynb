{
 "cells": [
  {
   "cell_type": "markdown",
   "metadata": {},
   "source": [
    "### Exercise 9 - Random Forest Classifier"
   ]
  },
  {
   "cell_type": "code",
   "execution_count": 6,
   "metadata": {},
   "outputs": [],
   "source": [
    "from si.io.csv_file import read_csv\n",
    "from si.model_selection.split import train_test_split\n",
    "from si.models.random_forest_classifier import RandomForestClassifier\n",
    "from sklearn.ensemble import RandomForestClassifier as SklearnRandomForestClassifier\n",
    "from si.metrics.accuracy import accuracy\n"
   ]
  },
  {
   "cell_type": "code",
   "execution_count": 7,
   "metadata": {},
   "outputs": [],
   "source": [
    "data = read_csv('/home/pauloseixal/Github/si/datasets/iris/iris.csv', sep=',', features=True, label=True)\n",
    "train, test = train_test_split(data, test_size=0.33, random_state=42)"
   ]
  },
  {
   "cell_type": "code",
   "execution_count": 8,
   "metadata": {},
   "outputs": [
    {
     "name": "stdout",
     "output_type": "stream",
     "text": [
      "0.9795918367346939\n"
     ]
    }
   ],
   "source": [
    "model = RandomForestClassifier(n_estimators=5, min_sample_split=3, max_depth=3, mode='gini')\n",
    "model.fit(train)\n",
    "# print(model.predict(test))\n",
    "print(model.score(test))\n"
   ]
  },
  {
   "cell_type": "markdown",
   "metadata": {},
   "source": [
    "Sklearn"
   ]
  },
  {
   "cell_type": "code",
   "execution_count": 9,
   "metadata": {},
   "outputs": [
    {
     "name": "stdout",
     "output_type": "stream",
     "text": [
      "0.9795918367346939\n"
     ]
    }
   ],
   "source": [
    "model2 = SklearnRandomForestClassifier(n_estimators=5, min_samples_split=3, max_depth=3)\n",
    "model2.fit(train.X, train.y)\n",
    "print(accuracy(test.y, model2.predict(test.X)))"
   ]
  },
  {
   "cell_type": "markdown",
   "metadata": {},
   "source": [
    "### Exercise 10 - Stacking Classifier"
   ]
  },
  {
   "cell_type": "code",
   "execution_count": 10,
   "metadata": {},
   "outputs": [],
   "source": [
    "from si.io.csv_file import read_csv\n",
    "from si.model_selection.split import stratified_train_test_split\n",
    "from si.models.knn_classifier import KNNClassifier\n",
    "from si.models.logistic_regression import LogisticRegression\n",
    "from si.models.decision_tree_classifier import DecisionTreeClassifier\n",
    "from si.ensemble.stacking_classifier import StackingClassifier"
   ]
  },
  {
   "cell_type": "code",
   "execution_count": 11,
   "metadata": {},
   "outputs": [],
   "source": [
    "data = read_csv('/home/pauloseixal/Github/si/datasets/breast_bin/breast-bin.csv', sep=\",\",features=True,label=True)\n",
    "train, test = stratified_train_test_split(data, test_size=0.20, random_state=42)\n"
   ]
  },
  {
   "cell_type": "code",
   "execution_count": 12,
   "metadata": {},
   "outputs": [
    {
     "name": "stdout",
     "output_type": "stream",
     "text": [
      "0.9784172661870504\n"
     ]
    }
   ],
   "source": [
    "#knnregressor\n",
    "knn = KNNClassifier(k=5)\n",
    "\n",
    "#logistic regression\n",
    "lr=LogisticRegression(l2_penalty=0.1, alpha=0.1, max_iter=1000)\n",
    "\n",
    "#decisiontreee\n",
    "dt=DecisionTreeClassifier(min_sample_split=2, max_depth=10, mode='gini')\n",
    "\n",
    "#final model\n",
    "final_model=KNNClassifier(k=5)\n",
    "modelos=[knn,lr,dt]\n",
    "exercise=StackingClassifier(modelos,final_model)\n",
    "exercise.fit(train)\n",
    "print(exercise.score(test))"
   ]
  },
  {
   "cell_type": "markdown",
   "metadata": {},
   "source": [
    "Sklearn"
   ]
  },
  {
   "cell_type": "code",
   "execution_count": 13,
   "metadata": {},
   "outputs": [],
   "source": [
    "#sklearn\n",
    "from sklearn.ensemble import StackingClassifier as StackingClassifier_sklearn\n",
    "from sklearn.neighbors import KNeighborsClassifier\n",
    "from sklearn.linear_model import LogisticRegression\n",
    "from sklearn.tree import DecisionTreeClassifier"
   ]
  },
  {
   "cell_type": "code",
   "execution_count": 14,
   "metadata": {},
   "outputs": [
    {
     "name": "stdout",
     "output_type": "stream",
     "text": [
      "0.9856115107913669\n"
     ]
    }
   ],
   "source": [
    "#knnregressor\n",
    "knn = KNeighborsClassifier(n_neighbors=5)\n",
    "\n",
    "#logistic regression\n",
    "lr=LogisticRegression(penalty='l2', C=0.1, max_iter=1000)\n",
    "\n",
    "#decisiontreee\n",
    "dt=DecisionTreeClassifier(min_samples_split=2, max_depth=10, criterion='gini')\n",
    "\n",
    "#final model\n",
    "final_model=KNeighborsClassifier(n_neighbors=5)\n",
    "models=[('knn',knn),('lr',lr),('dt',dt)]\n",
    "exercise=StackingClassifier_sklearn(estimators=models,final_estimator=final_model)\n",
    "exercise.fit(train.X, train.y)\n",
    "print(accuracy(test.y, exercise.predict(test.X)))\n"
   ]
  },
  {
   "cell_type": "markdown",
   "metadata": {},
   "source": [
    "### Exercise 11 - randomized_search_cv"
   ]
  },
  {
   "cell_type": "code",
   "execution_count": 15,
   "metadata": {},
   "outputs": [
    {
     "name": "stdout",
     "output_type": "stream",
     "text": [
      "Grid search results:\n",
      "\n",
      "Best avg score:\n",
      " 0.9669540229885057\n",
      "\n",
      "Best hyperparameters:\n",
      " {'l2_penalty': 9.0, 'alpha': 0.0007090909090909091, 'max_iter': 1783.9195979899498}\n",
      "\n",
      "All scores:\n",
      " [[0.9698275862068966, 0.9568965517241379, 0.9741379310344828], [0.9612068965517241, 0.9698275862068966, 0.9698275862068966], [0.9827586206896551, 0.9439655172413793, 0.9741379310344828], [0.9655172413793104, 0.9827586206896551, 0.9525862068965517], [0.9568965517241379, 0.9741379310344828, 0.9698275862068966], [0.9525862068965517, 0.9698275862068966, 0.978448275862069], [0.9655172413793104, 0.9655172413793104, 0.9698275862068966], [0.9741379310344828, 0.9439655172413793, 0.9827586206896551], [0.9741379310344828, 0.978448275862069, 0.9482758620689655], [0.9698275862068966, 0.9741379310344828, 0.9568965517241379]]\n",
      "\n",
      "All hyperparameters:\n",
      " [{'l2_penalty': 9.0, 'alpha': 0.0007090909090909091, 'max_iter': 1783.9195979899498}, {'l2_penalty': 5.0, 'alpha': 0.0009454545454545454, 'max_iter': 1683.4170854271356}, {'l2_penalty': 4.0, 'alpha': 0.00024545454545454545, 'max_iter': 1979.8994974874372}, {'l2_penalty': 8.0, 'alpha': 0.0006454545454545454, 'max_iter': 1185.929648241206}, {'l2_penalty': 2.0, 'alpha': 0.0002636363636363637, 'max_iter': 1487.4371859296484}, {'l2_penalty': 6.0, 'alpha': 0.0005545454545454545, 'max_iter': 1814.070351758794}, {'l2_penalty': 1.0, 'alpha': 0.0004727272727272728, 'max_iter': 1150.7537688442212}, {'l2_penalty': 4.0, 'alpha': 0.0005, 'max_iter': 1477.3869346733668}, {'l2_penalty': 7.0, 'alpha': 0.0009272727272727273, 'max_iter': 1542.713567839196}, {'l2_penalty': 2.0, 'alpha': 0.0004909090909090909, 'max_iter': 1557.788944723618}]\n"
     ]
    }
   ],
   "source": [
    "from si.models.logistic_regression import LogisticRegression\n",
    "from si.model_selection.randomized_search import randomized_search_cv\n",
    "from si.model_selection.grid_search import grid_search_cv\n",
    "from si.io.csv_file import read_csv\n",
    "import numpy as np\n",
    "\n",
    "\n",
    "# load the dataset\n",
    "dataset = read_csv('/home/pauloseixal/Github/si/datasets/breast_bin/breast-bin.csv', sep=\",\",features=True,label=True)\n",
    "\n",
    "# define the model\n",
    "model = LogisticRegression()\n",
    "\n",
    "# define the hyperparameter grid\n",
    "hyperparameter_grid = {'l2_penalty': np.linspace(1, 10, 10),\n",
    "                        'alpha': np.linspace(0.001, 0.0001, 100),\n",
    "                        'max_iter': np.linspace(1000, 2000, 200),\n",
    "                        }\n",
    "# print(hyperparameter_grid)\n",
    "\n",
    "# perform grid search cross validation\n",
    "results = randomized_search_cv(model=model, dataset=dataset, hyperparameter_grid=hyperparameter_grid, cv=3, n_ite=10)\n",
    "\n",
    "# print the results\n",
    "print('Grid search results:\\n')\n",
    "\n",
    "print(f'Best avg score:\\n {results[\"best_scores\"]}')\n",
    "print()\n",
    "print(f'Best hyperparameters:\\n {results[\"best_hyperparameters\"]}')\n",
    "print()\n",
    "print(f'All scores:\\n {results[\"scores\"]}')\n",
    "print()\n",
    "print(f'All hyperparameters:\\n {results[\"hyperparameters\"]}')"
   ]
  }
 ],
 "metadata": {
  "kernelspec": {
   "display_name": "Python 3",
   "language": "python",
   "name": "python3"
  },
  "language_info": {
   "codemirror_mode": {
    "name": "ipython",
    "version": 3
   },
   "file_extension": ".py",
   "mimetype": "text/x-python",
   "name": "python",
   "nbconvert_exporter": "python",
   "pygments_lexer": "ipython3",
   "version": "3.10.12"
  }
 },
 "nbformat": 4,
 "nbformat_minor": 2
}
