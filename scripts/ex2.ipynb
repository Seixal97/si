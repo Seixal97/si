{
 "cells": [
  {
   "cell_type": "code",
   "execution_count": 3,
   "metadata": {},
   "outputs": [],
   "source": [
    "import numpy as np"
   ]
  },
  {
   "cell_type": "markdown",
   "metadata": {},
   "source": [
    "### Exercise 2: (Optional) examples of how to use the new methods \n",
    "\n",
    "```dropna```"
   ]
  },
  {
   "cell_type": "code",
   "execution_count": 4,
   "metadata": {},
   "outputs": [
    {
     "name": "stdout",
     "output_type": "stream",
     "text": [
      "[[ 1.  2.  3.]\n",
      " [ 4.  5.  6.]\n",
      " [ 6.  7. nan]]\n",
      "\n",
      "[[1. 2. 3.]\n",
      " [4. 5. 6.]]\n"
     ]
    }
   ],
   "source": [
    "from si.data.dataset import Dataset\n",
    "\n",
    "X = np.array([[1, 2, 3], [4, 5, 6], [6, 7, np.nan]])\n",
    "y = np.array([1, 2, 3])\n",
    "features = np.array(['a', 'b', 'c'])\n",
    "label = 'y'\n",
    "dataset = Dataset(X, y, features, label)\n",
    "\n",
    "print(dataset.X)\n",
    "print()\n",
    "dataset.dropna()\n",
    "print(dataset.X)"
   ]
  },
  {
   "cell_type": "markdown",
   "metadata": {},
   "source": [
    "```fillna```"
   ]
  },
  {
   "cell_type": "code",
   "execution_count": 5,
   "metadata": {},
   "outputs": [
    {
     "name": "stdout",
     "output_type": "stream",
     "text": [
      "[[ 1.  2.  3.]\n",
      " [ 4.  5.  6.]\n",
      " [ 6.  7. nan]]\n",
      "\n",
      "[[1.  2.  3. ]\n",
      " [4.  5.  6. ]\n",
      " [6.  7.  4.5]]\n"
     ]
    }
   ],
   "source": [
    "X = np.array([[1, 2, 3], [4, 5, 6], [6, 7, np.nan]])\n",
    "y = np.array([1, 2, 3])\n",
    "features = np.array(['a', 'b', 'c'])\n",
    "label = 'y'\n",
    "dataset = Dataset(X, y, features, label)\n",
    "\n",
    "# print(dataset.X)\n",
    "# print()\n",
    "# dataset.fillna(1)\n",
    "# print(dataset.X)\n",
    "\n",
    "# print(dataset.X)\n",
    "# print()\n",
    "# dataset.fillna('median')\n",
    "# print(dataset.X)\n",
    "\n",
    "print(dataset.X)\n",
    "print()\n",
    "dataset.fillna('mean')\n",
    "print(dataset.X)"
   ]
  },
  {
   "cell_type": "markdown",
   "metadata": {},
   "source": [
    "```remove_by_index```"
   ]
  },
  {
   "cell_type": "code",
   "execution_count": 6,
   "metadata": {},
   "outputs": [
    {
     "name": "stdout",
     "output_type": "stream",
     "text": [
      "[[ 1.  2.  3.]\n",
      " [ 4.  5.  6.]\n",
      " [ 6.  7. nan]]\n",
      "\n",
      "[[ 1.  2.  3.]\n",
      " [ 6.  7. nan]]\n"
     ]
    }
   ],
   "source": [
    "X = np.array([[1, 2, 3], [4, 5, 6], [6, 7, np.nan]])\n",
    "y = np.array([1, 2, 3])\n",
    "features = np.array(['a', 'b', 'c'])\n",
    "label = 'y'\n",
    "dataset = Dataset(X, y, features, label)\n",
    "\n",
    "print(dataset.X)\n",
    "print()\n",
    "dataset.remove_by_index(1)\n",
    "print(dataset.X)"
   ]
  }
 ],
 "metadata": {
  "kernelspec": {
   "display_name": "Python 3",
   "language": "python",
   "name": "python3"
  },
  "language_info": {
   "codemirror_mode": {
    "name": "ipython",
    "version": 3
   },
   "file_extension": ".py",
   "mimetype": "text/x-python",
   "name": "python",
   "nbconvert_exporter": "python",
   "pygments_lexer": "ipython3",
   "version": "3.10.12"
  },
  "orig_nbformat": 4
 },
 "nbformat": 4,
 "nbformat_minor": 2
}
