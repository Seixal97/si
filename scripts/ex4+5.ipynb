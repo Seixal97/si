{
 "cells": [
  {
   "cell_type": "markdown",
   "metadata": {},
   "source": [
    "### Exercise 4: Manhattan distance"
   ]
  },
  {
   "cell_type": "code",
   "execution_count": 1,
   "metadata": {},
   "outputs": [
    {
     "name": "stdout",
     "output_type": "stream",
     "text": [
      "Our Manhattan distance: [ 9 18]\n",
      "Sklearn Manhattan distance: [[ 9. 18.]]\n"
     ]
    }
   ],
   "source": [
    "from si.statistics.manhattan_distance import manhattan_distance\n",
    "import numpy as np\n",
    "\n",
    "x = np.array([1, 2, 3])\n",
    "y = np.array([[4, 5, 6], [7, 8, 9]])\n",
    "md = manhattan_distance(x, y)\n",
    "\n",
    "# using sklearn\n",
    "from sklearn.metrics.pairwise import manhattan_distances\n",
    "sklearn_md = manhattan_distances([x], y)\n",
    "\n",
    "\n",
    "print(\"Our Manhattan distance:\", md)\n",
    "print(\"Sklearn Manhattan distance:\", sklearn_md)"
   ]
  },
  {
   "cell_type": "markdown",
   "metadata": {},
   "source": [
    "### Exercise 5: PCA"
   ]
  },
  {
   "cell_type": "code",
   "execution_count": 2,
   "metadata": {},
   "outputs": [
    {
     "name": "stdout",
     "output_type": "stream",
     "text": [
      "float (0.95) n_components:\n",
      "components: [[ 0.36158968 -0.08226889  0.85657211  0.35884393]\n",
      " [-0.65653988 -0.72971237  0.1757674   0.07470647]]\n",
      "explained variance: [4.22484077 0.24224357]\n",
      "explained variance ratio: [0.94577144 0.05422856]\n",
      "\n",
      "int (2) n_components:\n",
      "components: [[ 0.36158968 -0.08226889  0.85657211  0.35884393]\n",
      " [-0.65653988 -0.72971237  0.1757674   0.07470647]]\n",
      "explained variance: [4.22484077 0.24224357]\n",
      "explained variance ratio: [0.94577144 0.05422856]\n"
     ]
    }
   ],
   "source": [
    "from si.io.csv_file import read_csv\n",
    "from si.decomposition.pca import PCA\n",
    "iris = read_csv('/home/pauloseixal/Github/si/datasets/iris/iris.csv',sep=',',features=True, label=True)\n",
    "\n",
    "#float n_components\n",
    "pca = PCA(n_components=0.95)\n",
    "pca.fit_transform(iris)\n",
    "print('float (0.95) n_components:')\n",
    "print('components:', pca.components)\n",
    "print('explained variance:', pca.explained_variance)\n",
    "print('explained variance ratio:',pca.explained_variance_ratio)\n",
    "print()\n",
    "\n",
    "#int n_components\n",
    "pca = PCA(n_components=2)\n",
    "pca.fit_transform(iris)\n",
    "print('int (2) n_components:')\n",
    "print('components:', pca.components)\n",
    "print('explained variance:', pca.explained_variance)\n",
    "print('explained variance ratio:', pca.explained_variance_ratio)\n",
    "\n",
    "\n"
   ]
  },
  {
   "cell_type": "code",
   "execution_count": 3,
   "metadata": {},
   "outputs": [
    {
     "data": {
      "text/plain": [
       "array([5.84333333, 3.054     , 3.75866667, 1.19866667])"
      ]
     },
     "execution_count": 3,
     "metadata": {},
     "output_type": "execute_result"
    }
   ],
   "source": [
    "pca.mean"
   ]
  },
  {
   "cell_type": "markdown",
   "metadata": {},
   "source": [
    "Comparing with sklearn"
   ]
  },
  {
   "cell_type": "code",
   "execution_count": 6,
   "metadata": {},
   "outputs": [
    {
     "name": "stdout",
     "output_type": "stream",
     "text": [
      "float (0.95) n_components:\n",
      "components: [[ 0.36158968 -0.08226889  0.85657211  0.35884393]\n",
      " [ 0.65653988  0.72971237 -0.1757674  -0.07470647]]\n",
      "explained variance: [4.22484077 0.24224357]\n",
      "explained variance ratio: [0.92461621 0.05301557]\n",
      "\n",
      "int (2) n_components:\n",
      "components: [[ 0.36158968 -0.08226889  0.85657211  0.35884393]\n",
      " [ 0.65653988  0.72971237 -0.1757674  -0.07470647]]\n",
      "explained variance: [4.22484077 0.24224357]\n",
      "explained variance ratio: [0.92461621 0.05301557]\n"
     ]
    }
   ],
   "source": [
    "from sklearn.decomposition import PCA as skPCA\n",
    "\n",
    "#float n_components\n",
    "pca = skPCA(n_components=0.95)\n",
    "pca.fit_transform(iris.X)\n",
    "print('float (0.95) n_components:')\n",
    "print('components:', pca.components_)\n",
    "print('explained variance:', pca.explained_variance_)\n",
    "print('explained variance ratio:',pca.explained_variance_ratio_)\n",
    "print()\n",
    "\n",
    "#int n_components\n",
    "pca = skPCA(n_components=2)\n",
    "pca.fit_transform(iris.X)\n",
    "print('int (2) n_components:')\n",
    "print('components:', pca.components_)\n",
    "print('explained variance:', pca.explained_variance_)\n",
    "print('explained variance ratio:', pca.explained_variance_ratio_)\n"
   ]
  }
 ],
 "metadata": {
  "kernelspec": {
   "display_name": "Python 3",
   "language": "python",
   "name": "python3"
  },
  "language_info": {
   "codemirror_mode": {
    "name": "ipython",
    "version": 3
   },
   "file_extension": ".py",
   "mimetype": "text/x-python",
   "name": "python",
   "nbconvert_exporter": "python",
   "pygments_lexer": "ipython3",
   "version": "3.10.12"
  },
  "orig_nbformat": 4
 },
 "nbformat": 4,
 "nbformat_minor": 2
}
