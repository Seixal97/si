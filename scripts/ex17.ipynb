{
 "cells": [
  {
   "cell_type": "markdown",
   "metadata": {},
   "source": [
    "### Testing one-hot encoding"
   ]
  },
  {
   "cell_type": "code",
   "execution_count": 1,
   "metadata": {},
   "outputs": [
    {
     "name": "stdout",
     "output_type": "stream",
     "text": [
      "Categories:\n",
      " ['a' 'b' 'c' 'd' 'e' 'f' '_']\n",
      "Custom Encoder Encoded:\n",
      " [[[1. 0. 0. 0. 0. 0. 0.]\n",
      "  [0. 1. 0. 0. 0. 0. 0.]\n",
      "  [0. 0. 1. 0. 0. 0. 0.]]\n",
      "\n",
      " [[0. 0. 0. 1. 0. 0. 0.]\n",
      "  [0. 0. 0. 0. 1. 0. 0.]\n",
      "  [0. 0. 0. 0. 0. 1. 0.]]\n",
      "\n",
      " [[1. 0. 0. 0. 0. 0. 0.]\n",
      "  [0. 1. 0. 0. 0. 0. 0.]\n",
      "  [0. 0. 0. 0. 0. 0. 1.]]\n",
      "\n",
      " [[0. 0. 0. 1. 0. 0. 0.]\n",
      "  [0. 0. 0. 0. 1. 0. 0.]\n",
      "  [0. 0. 0. 0. 0. 0. 1.]]]\n",
      "Custom Encoder Decoded:\n",
      " ['abc', 'def', 'ab', 'de']\n"
     ]
    }
   ],
   "source": [
    "from si.encoding.one_hot_encoder import OneHotEncoder\n",
    "import numpy as np\n",
    "\n",
    "# example data\n",
    "data = np.array(['abc', 'def', 'ab', 'de'])\n",
    "\n",
    "# encoder\n",
    "custom_encoder = OneHotEncoder(padder='_')\n",
    "custom_encoded = custom_encoder.fit_transform(data)\n",
    "custom_decoded = custom_encoder.inverse_transform(custom_encoded)\n",
    "\n",
    "# comparing results\n",
    "print(\"Categories:\\n\", custom_encoder.alphabet)\n",
    "print(\"Custom Encoder Encoded:\\n\", custom_encoded)\n",
    "print(\"Custom Encoder Decoded:\\n\", custom_decoded)"
   ]
  }
 ],
 "metadata": {
  "kernelspec": {
   "display_name": "Python 3",
   "language": "python",
   "name": "python3"
  },
  "language_info": {
   "codemirror_mode": {
    "name": "ipython",
    "version": 3
   },
   "file_extension": ".py",
   "mimetype": "text/x-python",
   "name": "python",
   "nbconvert_exporter": "python",
   "pygments_lexer": "ipython3",
   "version": "3.10.12"
  }
 },
 "nbformat": 4,
 "nbformat_minor": 2
}
