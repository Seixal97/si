{
 "cells": [
  {
   "cell_type": "markdown",
   "metadata": {},
   "source": [
    "### Build , train and evaluate a neural network"
   ]
  },
  {
   "cell_type": "code",
   "execution_count": 38,
   "metadata": {},
   "outputs": [],
   "source": [
    "from si.data.dataset import Dataset\n",
    "import numpy as np\n",
    "from si.neural_networks.layers import Layer, DenseLayer, Dropout\n",
    "from si.neural_networks.neural_network import NeuralNetwork\n",
    "from si.neural_networks.optimizers import SGD\n",
    "from si.neural_networks.activation import ReLUActivation,SigmoidActivation\n",
    "from si.neural_networks.losses import BinaryCrossEntropy\n",
    "from si.model_selection.split import stratified_train_test_split\n",
    "from si.metrics.accuracy import accuracy"
   ]
  },
  {
   "cell_type": "code",
   "execution_count": 39,
   "metadata": {},
   "outputs": [
    {
     "data": {
      "text/plain": [
       "(320, 32)"
      ]
     },
     "execution_count": 39,
     "metadata": {},
     "output_type": "execute_result"
    }
   ],
   "source": [
    "# creating training dataset with 32 features\n",
    "\n",
    "np.random.seed(42)\n",
    "X = np.random.randn(320, 32) \n",
    "y = np.random.randint(2, size=(320, 1))\n",
    "\n",
    "dataset = Dataset(X, y)\n",
    "dataset.shape()"
   ]
  },
  {
   "cell_type": "code",
   "execution_count": 40,
   "metadata": {},
   "outputs": [
    {
     "data": {
      "text/plain": [
       "32"
      ]
     },
     "execution_count": 40,
     "metadata": {},
     "output_type": "execute_result"
    }
   ],
   "source": [
    "dataset.shape()[1]"
   ]
  },
  {
   "cell_type": "code",
   "execution_count": 41,
   "metadata": {},
   "outputs": [
    {
     "name": "stdout",
     "output_type": "stream",
     "text": [
      "(257, 32)\n",
      "(63, 32)\n"
     ]
    }
   ],
   "source": [
    "# split dataset into train and test sets\n",
    "train_dataset, test_dataset = stratified_train_test_split(dataset, test_size=0.2)\n",
    "print(train_dataset.shape())\n",
    "print(test_dataset.shape())"
   ]
  },
  {
   "cell_type": "code",
   "execution_count": 42,
   "metadata": {},
   "outputs": [
    {
     "name": "stdout",
     "output_type": "stream",
     "text": [
      "Epoch 1/100 - loss: 195.0140 - accuracy: 0.5352\n",
      "Epoch 2/100 - loss: 172.5367 - accuracy: 0.5781\n",
      "Epoch 3/100 - loss: 163.0152 - accuracy: 0.6758\n",
      "Epoch 4/100 - loss: 159.2236 - accuracy: 0.6602\n",
      "Epoch 5/100 - loss: 152.4985 - accuracy: 0.7070\n",
      "Epoch 6/100 - loss: 140.8334 - accuracy: 0.7422\n",
      "Epoch 7/100 - loss: 131.7150 - accuracy: 0.7617\n",
      "Epoch 8/100 - loss: 119.6368 - accuracy: 0.8242\n",
      "Epoch 9/100 - loss: 112.1043 - accuracy: 0.8203\n",
      "Epoch 10/100 - loss: 99.8124 - accuracy: 0.8555\n",
      "Epoch 11/100 - loss: 89.3029 - accuracy: 0.8555\n",
      "Epoch 12/100 - loss: 75.3195 - accuracy: 0.9141\n",
      "Epoch 13/100 - loss: 67.7248 - accuracy: 0.9297\n",
      "Epoch 14/100 - loss: 56.2538 - accuracy: 0.9492\n",
      "Epoch 15/100 - loss: 44.7497 - accuracy: 0.9727\n",
      "Epoch 16/100 - loss: 41.6266 - accuracy: 0.9609\n",
      "Epoch 17/100 - loss: 32.2346 - accuracy: 0.9727\n",
      "Epoch 18/100 - loss: 25.8445 - accuracy: 0.9883\n",
      "Epoch 19/100 - loss: 21.3845 - accuracy: 0.9844\n",
      "Epoch 20/100 - loss: 17.7372 - accuracy: 0.9883\n",
      "Epoch 21/100 - loss: 15.3632 - accuracy: 0.9883\n",
      "Epoch 22/100 - loss: 13.3554 - accuracy: 0.9961\n",
      "Epoch 23/100 - loss: 11.6840 - accuracy: 0.9961\n",
      "Epoch 24/100 - loss: 10.4284 - accuracy: 0.9961\n",
      "Epoch 25/100 - loss: 9.5478 - accuracy: 0.9961\n",
      "Epoch 26/100 - loss: 8.4522 - accuracy: 0.9961\n",
      "Epoch 27/100 - loss: 7.8375 - accuracy: 0.9961\n",
      "Epoch 28/100 - loss: 7.2206 - accuracy: 0.9961\n",
      "Epoch 29/100 - loss: 6.5873 - accuracy: 0.9961\n",
      "Epoch 30/100 - loss: 6.2529 - accuracy: 0.9961\n",
      "Epoch 31/100 - loss: 5.8795 - accuracy: 0.9961\n",
      "Epoch 32/100 - loss: 5.4785 - accuracy: 0.9961\n",
      "Epoch 33/100 - loss: 5.1521 - accuracy: 0.9961\n",
      "Epoch 34/100 - loss: 4.8632 - accuracy: 0.9961\n",
      "Epoch 35/100 - loss: 4.6410 - accuracy: 0.9961\n",
      "Epoch 36/100 - loss: 4.5297 - accuracy: 0.9961\n",
      "Epoch 37/100 - loss: 4.3691 - accuracy: 0.9961\n",
      "Epoch 38/100 - loss: 4.1714 - accuracy: 0.9961\n",
      "Epoch 39/100 - loss: 3.9825 - accuracy: 0.9961\n",
      "Epoch 40/100 - loss: 3.8333 - accuracy: 0.9961\n",
      "Epoch 41/100 - loss: 3.7223 - accuracy: 1.0000\n",
      "Epoch 42/100 - loss: 3.6821 - accuracy: 0.9961\n",
      "Epoch 43/100 - loss: 3.3604 - accuracy: 1.0000\n",
      "Epoch 44/100 - loss: 3.1782 - accuracy: 1.0000\n",
      "Epoch 45/100 - loss: 3.0535 - accuracy: 1.0000\n",
      "Epoch 46/100 - loss: 2.9462 - accuracy: 1.0000\n",
      "Epoch 47/100 - loss: 2.8361 - accuracy: 1.0000\n",
      "Epoch 48/100 - loss: 2.7302 - accuracy: 1.0000\n",
      "Epoch 49/100 - loss: 2.6555 - accuracy: 1.0000\n",
      "Epoch 50/100 - loss: 2.6325 - accuracy: 1.0000\n",
      "Epoch 51/100 - loss: 2.5440 - accuracy: 1.0000\n",
      "Epoch 52/100 - loss: 2.4620 - accuracy: 1.0000\n",
      "Epoch 53/100 - loss: 2.3848 - accuracy: 1.0000\n",
      "Epoch 54/100 - loss: 2.3324 - accuracy: 1.0000\n",
      "Epoch 55/100 - loss: 2.2791 - accuracy: 1.0000\n",
      "Epoch 56/100 - loss: 2.2155 - accuracy: 1.0000\n",
      "Epoch 57/100 - loss: 2.2095 - accuracy: 1.0000\n",
      "Epoch 58/100 - loss: 2.1495 - accuracy: 1.0000\n",
      "Epoch 59/100 - loss: 2.0868 - accuracy: 1.0000\n",
      "Epoch 60/100 - loss: 2.0277 - accuracy: 1.0000\n",
      "Epoch 61/100 - loss: 1.9843 - accuracy: 1.0000\n",
      "Epoch 62/100 - loss: 1.9504 - accuracy: 1.0000\n",
      "Epoch 63/100 - loss: 1.9054 - accuracy: 1.0000\n",
      "Epoch 64/100 - loss: 1.8750 - accuracy: 1.0000\n",
      "Epoch 65/100 - loss: 1.8294 - accuracy: 1.0000\n",
      "Epoch 66/100 - loss: 1.7893 - accuracy: 1.0000\n",
      "Epoch 67/100 - loss: 1.7448 - accuracy: 1.0000\n",
      "Epoch 68/100 - loss: 1.7214 - accuracy: 1.0000\n",
      "Epoch 69/100 - loss: 1.6875 - accuracy: 1.0000\n",
      "Epoch 70/100 - loss: 1.6647 - accuracy: 1.0000\n",
      "Epoch 71/100 - loss: 1.6682 - accuracy: 1.0000\n",
      "Epoch 72/100 - loss: 1.6188 - accuracy: 1.0000\n",
      "Epoch 73/100 - loss: 1.5848 - accuracy: 1.0000\n",
      "Epoch 74/100 - loss: 1.5617 - accuracy: 1.0000\n",
      "Epoch 75/100 - loss: 1.5353 - accuracy: 1.0000\n",
      "Epoch 76/100 - loss: 1.5052 - accuracy: 1.0000\n",
      "Epoch 77/100 - loss: 1.5018 - accuracy: 1.0000\n",
      "Epoch 78/100 - loss: 1.4777 - accuracy: 1.0000\n",
      "Epoch 79/100 - loss: 1.4636 - accuracy: 1.0000\n",
      "Epoch 80/100 - loss: 1.4349 - accuracy: 1.0000\n",
      "Epoch 81/100 - loss: 1.4139 - accuracy: 1.0000\n",
      "Epoch 82/100 - loss: 1.3876 - accuracy: 1.0000\n",
      "Epoch 83/100 - loss: 1.3829 - accuracy: 1.0000\n",
      "Epoch 84/100 - loss: 1.3629 - accuracy: 1.0000\n",
      "Epoch 85/100 - loss: 1.3436 - accuracy: 1.0000\n",
      "Epoch 86/100 - loss: 1.3309 - accuracy: 1.0000\n",
      "Epoch 87/100 - loss: 1.3154 - accuracy: 1.0000\n",
      "Epoch 88/100 - loss: 1.2893 - accuracy: 1.0000\n",
      "Epoch 89/100 - loss: 1.2778 - accuracy: 1.0000\n",
      "Epoch 90/100 - loss: 1.2688 - accuracy: 1.0000\n",
      "Epoch 91/100 - loss: 1.2491 - accuracy: 1.0000\n",
      "Epoch 92/100 - loss: 1.2214 - accuracy: 1.0000\n",
      "Epoch 93/100 - loss: 1.2228 - accuracy: 1.0000\n",
      "Epoch 94/100 - loss: 1.2098 - accuracy: 1.0000\n",
      "Epoch 95/100 - loss: 1.2142 - accuracy: 1.0000\n",
      "Epoch 96/100 - loss: 1.1956 - accuracy: 1.0000\n",
      "Epoch 97/100 - loss: 1.1805 - accuracy: 1.0000\n",
      "Epoch 98/100 - loss: 1.1668 - accuracy: 1.0000\n",
      "Epoch 99/100 - loss: 1.1511 - accuracy: 1.0000\n",
      "Epoch 100/100 - loss: 1.1410 - accuracy: 1.0000\n"
     ]
    },
    {
     "data": {
      "text/plain": [
       "<si.neural_networks.neural_network.NeuralNetwork at 0x7fc239bd0190>"
      ]
     },
     "execution_count": 42,
     "metadata": {},
     "output_type": "execute_result"
    }
   ],
   "source": [
    "#assembling and training the neural network\n",
    "nn = NeuralNetwork(epochs=100, batch_size=16, optimizer=SGD, learning_rate=0.01, verbose=True, loss=BinaryCrossEntropy, metric=accuracy)\n",
    "nn.add(DenseLayer(32, (dataset.shape()[1],)))\n",
    "nn.add(ReLUActivation())\n",
    "nn.add(DenseLayer(16))\n",
    "nn.add(ReLUActivation())\n",
    "nn.add(DenseLayer(1))\n",
    "nn.add(SigmoidActivation())\n",
    "nn.fit(train_dataset)\n"
   ]
  },
  {
   "cell_type": "code",
   "execution_count": 43,
   "metadata": {},
   "outputs": [
    {
     "name": "stdout",
     "output_type": "stream",
     "text": [
      "0.42857142857142855\n"
     ]
    }
   ],
   "source": [
    "# testing the model\n",
    "result=nn.score(test_dataset)\n",
    "print(result)"
   ]
  }
 ],
 "metadata": {
  "kernelspec": {
   "display_name": "Python 3",
   "language": "python",
   "name": "python3"
  },
  "language_info": {
   "codemirror_mode": {
    "name": "ipython",
    "version": 3
   },
   "file_extension": ".py",
   "mimetype": "text/x-python",
   "name": "python",
   "nbconvert_exporter": "python",
   "pygments_lexer": "ipython3",
   "version": "3.10.12"
  }
 },
 "nbformat": 4,
 "nbformat_minor": 2
}
